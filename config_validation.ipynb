{
 "cells": [
  {
   "cell_type": "markdown",
   "id": "8a63ce90",
   "metadata": {},
   "source": [
    "# 操作指引\n",
    "\n",
    "```bash\n",
    "cd <ProjectRootDir>\n",
    "python -m venv .venv\n",
    ".venv/Scripts/activate\n",
    "pip install -r requirements.txt\n",
    "```\n",
    "\n",
    "本程式之執行，需配合 Chrome WebDriver ，目前預設 Windows 10 安裝路徑：\n",
    "\n",
    "d:\\bin\\chromedriver-win64\\chromedriver.exe\n",
    "\n",
    "上述安裝位置，須於 `config.env` 執行環境設定檔指明：\n",
    "\n",
    "```sh\n",
    "CHROMEDRIVER_PATH=d:\\bin\\chromedriver-win64\\chromedriver.exe\n",
    "```\n",
    "【安裝步驟】：\n",
    "\n",
    "1. 確認作業系統中安裝的 Google Chrome 瀏覽器版本。方法為：打開瀏覽器輸入如下指令...\n",
    "\n",
    "```powershell-interactive\n",
    "chrome://version\n",
    "```\n",
    "\n",
    "2. 根據所查到的 Chrome 版本，自 [ChromeDriver 下載頁面](https://chromedriver.chromium.org/home) 下載對應的 ChromeDriver。\n",
    "   以 Chrome V122.0.6261.95 言，自此[網址](https://googlechromelabs.github.io/chrome-for-testing/#stable)，在表格中的 Binary 欄位，找 chromedriver ，對映的 Platform : win64 下載：[chromedirver-win64.zip](https://storage.googleapis.com/chrome-for-testing-public/122.0.6261.94/win64/chromedriver-win64.zip)\n",
    "\n",
    "3. 將上述下載之 zip 壓縮檔解開，置於路徑： d:\\bin\\chromedriver-win64\\\n"
   ]
  },
  {
   "cell_type": "code",
   "execution_count": 8,
   "id": "46f1c273",
   "metadata": {},
   "outputs": [],
   "source": [
    "from time import sleep\n",
    "\n",
    "from selenium import webdriver\n",
    "from selenium.webdriver.chrome.service import Service"
   ]
  },
  {
   "cell_type": "code",
   "execution_count": 9,
   "id": "2a24e85b",
   "metadata": {},
   "outputs": [],
   "source": [
    "from config_dev_env import CHROMEDRIVER_PATH, PYTHON_URL, WAIT_TIME"
   ]
  },
  {
   "cell_type": "code",
   "execution_count": 10,
   "id": "7887f9ea",
   "metadata": {},
   "outputs": [],
   "source": [
    "service = Service(executable_path=CHROMEDRIVER_PATH) # type: ignore"
   ]
  },
  {
   "cell_type": "code",
   "execution_count": 11,
   "id": "8dda9e00",
   "metadata": {},
   "outputs": [],
   "source": [
    "driver = webdriver.Chrome(service=service)"
   ]
  },
  {
   "cell_type": "code",
   "execution_count": 12,
   "id": "e19dc526",
   "metadata": {},
   "outputs": [],
   "source": [
    "driver.get(PYTHON_URL)\n",
    "\n",
    "sleep(WAIT_TIME) # Let the user actually see something!\n"
   ]
  },
  {
   "cell_type": "code",
   "execution_count": 13,
   "id": "ee35d2d1",
   "metadata": {},
   "outputs": [],
   "source": [
    "driver.quit()"
   ]
  }
 ],
 "metadata": {
  "kernelspec": {
   "display_name": "venv-selenium",
   "language": "python",
   "name": "python3"
  },
  "language_info": {
   "codemirror_mode": {
    "name": "ipython",
    "version": 3
   },
   "file_extension": ".py",
   "mimetype": "text/x-python",
   "name": "python",
   "nbconvert_exporter": "python",
   "pygments_lexer": "ipython3",
   "version": "3.12.2"
  },
  "vscode": {
   "interpreter": {
    "hash": "c2347972bb098eed7d7a3e5b7422fb4106e2030a6033db031cde0624ad6d1d85"
   }
  }
 },
 "nbformat": 4,
 "nbformat_minor": 5
}
