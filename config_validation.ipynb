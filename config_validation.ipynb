{
 "cells": [
  {
   "cell_type": "code",
   "execution_count": 1,
   "id": "46f1c273",
   "metadata": {},
   "outputs": [],
   "source": [
    "from time import sleep\n",
    "\n",
    "from selenium import webdriver\n",
    "from selenium.webdriver.chrome.service import Service"
   ]
  },
  {
   "cell_type": "code",
   "execution_count": 2,
   "id": "2a24e85b",
   "metadata": {},
   "outputs": [],
   "source": [
    "from config_dev_env import CHROMEDRIVER_PATH, PYTHON_URL, WAIT_TIME"
   ]
  },
  {
   "cell_type": "code",
   "execution_count": 3,
   "id": "7887f9ea",
   "metadata": {},
   "outputs": [],
   "source": [
    "service = Service(executable_path=CHROMEDRIVER_PATH) # type: ignore"
   ]
  },
  {
   "cell_type": "code",
   "execution_count": 4,
   "id": "8dda9e00",
   "metadata": {},
   "outputs": [],
   "source": [
    "driver = webdriver.Chrome(service=service)"
   ]
  },
  {
   "cell_type": "code",
   "execution_count": 5,
   "id": "e19dc526",
   "metadata": {},
   "outputs": [],
   "source": [
    "driver.get(PYTHON_URL)\n",
    "\n",
    "sleep(WAIT_TIME) # Let the user actually see something!\n"
   ]
  },
  {
   "cell_type": "code",
   "execution_count": null,
   "id": "eef41b26",
   "metadata": {},
   "outputs": [],
   "source": [
    "# KONG_UN_DICT_URL='https://ctext.org/dictionary.pl?if=gb'\n",
    "from config_dev_env import KONG_UN_DICT_URL\n",
    "driver.get(KONG_UN_DICT_URL)\n",
    "sleep(WAIT_TIME) # Let the user actually see something!"
   ]
  },
  {
   "cell_type": "code",
   "execution_count": 6,
   "id": "ee35d2d1",
   "metadata": {},
   "outputs": [],
   "source": [
    "driver.quit()"
   ]
  }
 ],
 "metadata": {
  "kernelspec": {
   "display_name": "venv-selenium",
   "language": "python",
   "name": "python3"
  },
  "language_info": {
   "codemirror_mode": {
    "name": "ipython",
    "version": 3
   },
   "file_extension": ".py",
   "mimetype": "text/x-python",
   "name": "python",
   "nbconvert_exporter": "python",
   "pygments_lexer": "ipython3",
   "version": "3.12.2"
  },
  "vscode": {
   "interpreter": {
    "hash": "c2347972bb098eed7d7a3e5b7422fb4106e2030a6033db031cde0624ad6d1d85"
   }
  }
 },
 "nbformat": 4,
 "nbformat_minor": 5
}
