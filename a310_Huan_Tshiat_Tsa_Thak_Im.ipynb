{
 "cells": [
  {
   "cell_type": "markdown",
   "metadata": {},
   "source": [
    "## 反切查拚音功能\n",
    "\n",
    "### 功能描述\n",
    "\n",
    "用途：可以在終端機，使用 Python Code 查詢漢字的反切拚音。 \n",
    "\n",
    "### 反切查漢字讀音\n",
    "\n",
    "1. 利用上字：\n",
    "   (1) 查聲母的台羅拼音字母；\n",
    "   (2) 分清濁音：上字的台羅拼音聲調，若是1-4為清；5-8為濁\n",
    "\n",
    "2. 利用下字：\n",
    "   (1) 查韻母的台羅拼音字母；\n",
    "   (2) 辨平/上/去/入聲：下字的台羅拼音聲調，若是1/5為平；2/6為上；3/7為去；4/8為入\n",
    "\n",
    "3. 利用「清/濁」和「平/上/去/入」，查四聲八調的調號\n",
    "   | 　 | 平 | 上 | 去 | 入 |\n",
    "   |----+----+----+----+----|\n",
    "   | 清 |  1 |  2 |  3 |  4 |\n",
    "   | 濁 |  5 |  6 |  7 |  8 |\n",
    "\n",
    "    1: 清平 \n",
    "    2: 清上\n",
    "    3: 清去\n",
    "    4: 清入\n",
    "    5: 濁平\n",
    "    6: 濁上\n",
    "    7: 濁去\n",
    "    8: 濁入\n",
    "\n",
    "4. 台羅拚音 = 聲母 + 韻母 + 調號\n",
    "\n"
   ]
  },
  {
   "cell_type": "markdown",
   "metadata": {},
   "source": [
    "漢字= \"東\"\n",
    "\n",
    "上字= \"德\" --> 台羅拚音：tik4  --> 聲母 = \"t\"   --> 調號 = 4 --> 清音\n",
    "下字= \"紅\" --> 台羅拚音：hong5 --> 聲母 = \"ong\" --> 調號 = 5 --> 平聲\n",
    "由清音+平聲 --> 調號 = 5\n",
    "\n",
    "台羅拼音 = t + ong + 5 = tong5"
   ]
  },
  {
   "cell_type": "markdown",
   "metadata": {},
   "source": [
    "## 執行流程\n",
    "\n",
    "### 接收使用者輸入\n",
    "\n",
    "指令格式：\n",
    "\n",
    "```bash\n",
    "py a300_反切查拼音.py [參數1：查詢漢字] [參數2：反切拼]\n",
    "```\n",
    "\n",
    "參數：\n",
    "\n",
    "1. 查詢漢字： 1 個中文字\n",
    "2. 反切拼音： 2 個中文字\n",
    "   2.1 反切上字：反切拼音參數的第 1 個中文字\n",
    "   2.2 反切下字：反切拼音參數的第 2 個中文字\n",
    "\n",
    "案例：\n",
    "\n",
    "```bash\n",
    "py a300_反切查拼音.py 東 德紅\n",
    "```"
   ]
  },
  {
   "cell_type": "code",
   "execution_count": 1,
   "metadata": {},
   "outputs": [],
   "source": [
    "# 取得輸入\n",
    "han_ji = \"東\"\n",
    "huan_tshiat = \"德紅\""
   ]
  },
  {
   "cell_type": "code",
   "execution_count": 2,
   "metadata": {},
   "outputs": [
    {
     "name": "stdout",
     "output_type": "stream",
     "text": [
      "=========================================\n",
      "欲查漢字：東\n",
      "反切讀音：德紅\n",
      "\n",
      "反切上字：德\n",
      "反切下字：紅\n",
      "\n"
     ]
    }
   ],
   "source": [
    "siong_ji = huan_tshiat[0]\n",
    "e_ji = huan_tshiat[1]\n",
    "\n",
    "# 分析輸入\n",
    "print(\"=========================================\")\n",
    "print(f\"欲查漢字：{han_ji}\")\n",
    "print(f\"反切讀音：{huan_tshiat}\\n\")\n",
    "print(f\"反切上字：{siong_ji}\")\n",
    "print(f\"反切下字：{e_ji}\\n\")"
   ]
  },
  {
   "cell_type": "markdown",
   "metadata": {},
   "source": [
    "## 查字典取拼音\n",
    "\n",
    "在【漢字典】，查詢反切上字、下字之標音。\n",
    "\n",
    "**如：**\n",
    "\n",
    "- 上字：德 --> tik4\n",
    "- 下字：紅 --> hong5"
   ]
  },
  {
   "cell_type": "code",
   "execution_count": 3,
   "metadata": {},
   "outputs": [],
   "source": [
    "siong_ji_piau_im = {\n",
    "    \"han_ji\": \"德\",\n",
    "    \"piau_im\": \"tik4\",\n",
    "    \"sian_bu\": \"t\",\n",
    "    \"un_bu\": \"ik\",\n",
    "    \"tiau_ho\": 4,\n",
    "}\n",
    "\n",
    "e_ji_piau_im = {\n",
    "    \"han_ji\": \"紅\",\n",
    "    \"piau_im\": \"hong5\",\n",
    "    \"sian_bu\": \"h\",\n",
    "    \"un_bu\": \"ong\",\n",
    "    \"tiau_ho\": 5,\n",
    "}"
   ]
  },
  {
   "cell_type": "markdown",
   "metadata": {},
   "source": [
    "## 分析上字：上取聲母分清濁\n",
    "\n",
    "- (1) 上字定聲理：雙聲取聲母，上一字祗取發聲\n",
    "- (2) 上字分清濁：依據字韻聲調辦清/濁：聲調小於5為清(陰)、否則為濁(陽)\n"
   ]
  },
  {
   "cell_type": "code",
   "execution_count": 10,
   "metadata": {},
   "outputs": [
    {
     "name": "stdout",
     "output_type": "stream",
     "text": [
      "-----------------------------------------\n",
      "上字：德\n",
      "\n",
      "上字定聲理，因上字標音為：tik4\n",
      "故得聲母：t\n",
      "\n",
      "上字分清濁，因聲調為：4\n",
      "故清濁為：清\n",
      "\n"
     ]
    }
   ],
   "source": [
    "# 0:清 1:濁\n",
    "TSHING = 0 \n",
    "LO = 1\n",
    "\n",
    "piau_im_sian_bu = siong_ji_piau_im[\"sian_bu\"]\n",
    "piau_im_tshing_lo = TSHING if siong_ji_piau_im[\"tiau_ho\"] < 5 else LO \n",
    "\n",
    "print(\"-----------------------------------------\")\n",
    "print(f\"上字：{siong_ji}\\n\")\n",
    "print(f\"上字定聲理，因上字標音為：{siong_ji_piau_im['piau_im']}\")\n",
    "print(f\"故得聲母：{piau_im_sian_bu}\\n\")\n",
    "print(f\"上字分清濁，因聲調為：{siong_ji_piau_im['tiau_ho']}\")\n",
    "print(f\"故清濁為：{'清' if piau_im_tshing_lo == TSHING else '濁'}\\n\")\n"
   ]
  },
  {
   "cell_type": "markdown",
   "metadata": {},
   "source": [
    "## 分析下字：下取韻母定開合\n",
    "\n",
    "- (3) 下字定韻律：疊韻取韻母，下一字祗取其收韻\n",
    "- (4) 下字定開合：依據韻母聲調辦四聲（平/上/去/入）：平[1,5]、上[2,6]、去[3,7]、入[4,8]"
   ]
  },
  {
   "cell_type": "code",
   "execution_count": null,
   "metadata": {},
   "outputs": [
    {
     "name": "stdout",
     "output_type": "stream",
     "text": [
      "-----------------------------------------\n",
      "上字：德\n",
      "\n",
      "上字定聲理，因上字標音為：tik4\n",
      "故得聲母：t\n",
      "\n",
      "上字分清濁，因聲調為：4\n",
      "故清濁為：清\n",
      "\n"
     ]
    }
   ],
   "source": [
    "piau_im_un_bu = e_ji_piau_im[\"sian_bu\"]\n",
    "piau_im_tshing_lo = TSHING if siong_ji_piau_im[\"tiau_ho\"] < 5 else LO \n",
    "\n",
    "print(\"-----------------------------------------\")\n",
    "print(f\"下字：{e_ji}\\n\")\n",
    "print(f\"下字定韻律，因下字標音為：{e_ji_piau_im['piau_im']}\")\n",
    "print(f\"故得韻母：{piau_im_un_bu}\\n\")\n",
    "print(f\"下字定開合，因聲調為：{e_ji_piau_im['tiau_ho']}\")\n",
    "print(f\"故清濁為：{'清' if piau_im_tshing_lo == TSHING else '濁'}\\n\")\n"
   ]
  },
  {
   "cell_type": "markdown",
   "metadata": {},
   "source": [
    "## 切出四聲八調之聲調\n",
    "\n",
    "- 依據 (2) 清濁 、(4) 開合，定四聲八調：\n",
    "    - 上字為清聲，下字為濁聲，切成之字仍為清聲；\n",
    "    - 下一字為合口，上一字為開口，切成之字仍為合口。\n",
    "| **清濁聲** | ** 平聲韻** | ** 上聲韻** | ** 去聲韻** | ** 入聲韻** |\n",
    "|:-------:|:--------:|:--------:|:--------:|:--------:|\n",
    "| **清**   | 1        | 2        | 3        | 4        |\n",
    "| **濁**   | 5        | 6        | 7        | 8        |\n"
   ]
  },
  {
   "cell_type": "code",
   "execution_count": null,
   "metadata": {},
   "outputs": [],
   "source": [
    "sian_tiau = 1"
   ]
  },
  {
   "cell_type": "markdown",
   "metadata": {},
   "source": [
    "### 輸出反切拼音 \n",
    "\n",
    "依據輸入的 2 個參數進行處理，完成後輸出如下格式資料：\n",
    "\n",
    "`格式`：\n",
    "\n",
    "```bash\n",
    "欲查詢拼音之漢字：[參數1：查詢漢字]\n",
    "\n",
    "反切拼音為：[參數2：反切拼]\n",
    "\n",
    "反切上字為：[反切上字]\n",
    "反切下字為：[反切下字]\n",
    "```\n",
    "\n",
    "`舉例`：\n",
    "\n",
    "```bash\n",
    "欲查詢拼音之漢字：東\n",
    "反切拼音為：tong1\n",
    "\n",
    "反切上字為：德 (tik4)\n",
    " - 聲母：t\n",
    " - 清濁：清音\n",
    "\n",
    "反切下字為：紅（hong5）\n",
    " - 韻母：ong\n",
    " - 四聲：平聲\n",
    "\n",
    "清音配平聲，得聲調為：1\n",
    "```"
   ]
  },
  {
   "cell_type": "code",
   "execution_count": 7,
   "metadata": {},
   "outputs": [
    {
     "name": "stdout",
     "output_type": "stream",
     "text": [
      "=========================================\n",
      "欲查漢字：東\n",
      "反切讀音：德紅\n",
      "\n",
      "反切上字：德\n",
      "反切下字：紅\n",
      "\n"
     ]
    }
   ],
   "source": [
    "\n",
    "print(\"N/A\")"
   ]
  },
  {
   "cell_type": "code",
   "execution_count": null,
   "metadata": {},
   "outputs": [],
   "source": [
    "\n"
   ]
  }
 ],
 "metadata": {
  "kernelspec": {
   "display_name": "Python 3",
   "language": "python",
   "name": "python3"
  },
  "language_info": {
   "codemirror_mode": {
    "name": "ipython",
    "version": 3
   },
   "file_extension": ".py",
   "mimetype": "text/x-python",
   "name": "python",
   "nbconvert_exporter": "python",
   "pygments_lexer": "ipython3",
   "version": "3.12.2"
  }
 },
 "nbformat": 4,
 "nbformat_minor": 2
}
