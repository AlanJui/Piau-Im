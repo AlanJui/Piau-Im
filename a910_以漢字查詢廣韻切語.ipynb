{
 "cells": [
  {
   "cell_type": "code",
   "execution_count": 2,
   "metadata": {},
   "outputs": [],
   "source": [
    "from time import sleep\n",
    "from selenium import webdriver\n",
    "from selenium.webdriver.chrome.service import Service\n",
    "from selenium.webdriver.common.by import By\n",
    "from selenium.webdriver.common.keys import Keys\n",
    "\n",
    "# 假設 config_dev_env.py 文件中包含以下變量\n",
    "# CHROMEDRIVER_PATH = '路徑到您的chromedriver.exe'\n",
    "# KONG_UN_DICT_URL = 'https://ctext.org/dictionary.pl?if=gb'\n",
    "# WAIT_TIME = 5  # 適當的等待時間，以秒為單位\n",
    "\n",
    "# from config_dev_env import CHROMEDRIVER_PATH, KONG_UN_DICT_URL, WAIT_TIME\n",
    "from config_dev_env import CHROMEDRIVER_PATH, WAIT_TIME\n",
    "\n",
    "service = Service(executable_path=CHROMEDRIVER_PATH)\n",
    "driver = webdriver.Chrome(service=service)"
   ]
  },
  {
   "cell_type": "code",
   "execution_count": 3,
   "metadata": {},
   "outputs": [],
   "source": [
    "# 訪問《中國哲學書電子化計劃》字典功能的網頁\n",
    "KONG_UN_DICT_URL = 'https://ctext.org/dictionary.pl?if=gb'\n",
    "driver.get(KONG_UN_DICT_URL)\n",
    "\n",
    "# 等待頁面加載完成\n",
    "sleep(WAIT_TIME)\n",
    "\n",
    "# 找到搜索框並輸入漢字「無」\n",
    "search_box = driver.find_element(By.NAME, \"char\")\n",
    "search_box.clear()  # 清除搜索框中的預設文字或已有文字\n",
    "search_box.send_keys(\"無\")  # 輸入要查詢的漢字\n",
    "\n",
    "# 提交表單\n",
    "search_box.send_keys(Keys.RETURN)  # 使用 RETURN 鍵來提交表單\n",
    "\n",
    "# 等待搜索結果\n",
    "sleep(WAIT_TIME)\n"
   ]
  },
  {
   "cell_type": "code",
   "execution_count": null,
   "metadata": {},
   "outputs": [],
   "source": [
    "# 在此處，您可以添加更多的代碼來處理和解析搜索結果。\n",
    "# 例如，提取和打印出查詢結果。"
   ]
  },
  {
   "cell_type": "code",
   "execution_count": null,
   "metadata": {},
   "outputs": [],
   "source": [
    "# 結束測試和關閉瀏覽器\n",
    "driver.quit()"
   ]
  }
 ],
 "metadata": {
  "kernelspec": {
   "display_name": ".venv",
   "language": "python",
   "name": "python3"
  },
  "language_info": {
   "codemirror_mode": {
    "name": "ipython",
    "version": 3
   },
   "file_extension": ".py",
   "mimetype": "text/x-python",
   "name": "python",
   "nbconvert_exporter": "python",
   "pygments_lexer": "ipython3",
   "version": "3.12.2"
  }
 },
 "nbformat": 4,
 "nbformat_minor": 2
}
