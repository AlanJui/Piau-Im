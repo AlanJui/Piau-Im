{
 "cells": [
  {
   "cell_type": "markdown",
   "id": "7b971ab9",
   "metadata": {},
   "source": [
    "# xlwings 基本操作範例\n",
    "\n",
    "以下範例展示如何使用 xlwings 套件操作 Excel 檔案：\n",
    "\n",
    "## 前置作業\n",
    "- 確保已安裝 xlwings 套件：`pip install xlwings`\n",
    "- 確保已開啟目標 Excel 檔案\n",
    "- Excel 應用程式需要在背景執行"
   ]
  },
  {
   "cell_type": "code",
   "execution_count": null,
   "id": "e3f35b5f",
   "metadata": {},
   "outputs": [],
   "source": [
    "# 匯入 xlwings 套件\n",
    "import xlwings as xw\n",
    "\n",
    "# 取得作用中的活頁簿（當前開啟的 Excel 檔案）\n",
    "wb = xw.books.active\n",
    "\n",
    "# 選擇【韻母】工作表成為作用中工作表\n",
    "ws = wb.sheets['韻母']\n",
    "ws.activate()\n",
    "\n",
    "# 選擇【C5】儲存格\n",
    "cell = ws.range('C5')\n",
    "cell.select()\n",
    "\n",
    "print(\"已成功選擇【韻母】工作表的【C5】儲存格\")"
   ]
  },
  {
   "cell_type": "markdown",
   "id": "9a236429",
   "metadata": {},
   "source": [
    "將【作用中活頁簿】，選擇【韻母】工作表。"
   ]
  },
  {
   "cell_type": "code",
   "execution_count": null,
   "id": "b3618d45",
   "metadata": {},
   "outputs": [],
   "source": [
    "# 取得作用中的活頁簿（當前開啟的 Excel 檔案）\n",
    "wb = xw.books.active\n",
    "\n",
    "# 選擇【韻母】工作表成為作用中工作表\n",
    "ws = wb.sheets['韻母']\n",
    "ws.activate()"
   ]
  },
  {
   "cell_type": "code",
   "execution_count": null,
   "id": "c3edfb11",
   "metadata": {},
   "outputs": [],
   "source": [
    "# 選擇【C5】儲存格\n",
    "cell = ws.range('C5')\n",
    "cell.select()"
   ]
  },
  {
   "cell_type": "code",
   "execution_count": null,
   "id": "1401ffaf",
   "metadata": {},
   "outputs": [],
   "source": [
    "# 其他常用的 xlwings 操作範例\n",
    "\n",
    "# 1. 取得所有工作表名稱\n",
    "sheet_names = [sheet.name for sheet in wb.sheets]\n",
    "print(\"所有工作表名稱:\", sheet_names)\n",
    "\n",
    "# 2. 讀取儲存格值\n",
    "value = ws.range('C5').value\n",
    "print(f\"C5 儲存格的值: {value}\")\n",
    "\n",
    "# 3. 寫入儲存格值\n",
    "ws.range('C5').value = \"新的值\"\n",
    "print(\"已寫入新值到 C5 儲存格\")\n",
    "\n",
    "# 4. 選擇範圍\n",
    "range_cells = ws.range('A1:D10')\n",
    "print(f\"選擇範圍: {range_cells.address}\")\n",
    "\n",
    "# 5. 取得使用範圍\n",
    "used_range = ws.used_range\n",
    "print(f\"使用範圍: {used_range.address}\")"
   ]
  },
  {
   "cell_type": "markdown",
   "id": "d101a640",
   "metadata": {},
   "source": [
    "## 注意事項\n",
    "\n",
    "1. **Excel 必須開啟**：使用 `xw.books.active` 時，Excel 應用程式必須在背景執行且有開啟的活頁簿。\n",
    "\n",
    "2. **工作表名稱**：確保【韻母】工作表存在於活頁簿中，否則會出現錯誤。\n",
    "\n",
    "3. **錯誤處理**：實際使用時建議加入 try-except 錯誤處理：\n",
    "\n",
    "```python\n",
    "try:\n",
    "    wb = xw.books.active\n",
    "    ws = wb.sheets['韻母']\n",
    "    ws.activate()\n",
    "    ws.range('C5').select()\n",
    "except Exception as e:\n",
    "    print(f\"操作失敗: {e}\")\n",
    "```"
   ]
  }
 ],
 "metadata": {
  "kernelspec": {
   "display_name": ".venv",
   "language": "python",
   "name": "python3"
  },
  "language_info": {
   "name": "python",
   "version": "3.13.1"
  }
 },
 "nbformat": 4,
 "nbformat_minor": 5
}
