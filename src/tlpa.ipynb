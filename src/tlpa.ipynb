{
 "cells": [
  {
   "cell_type": "markdown",
   "id": "4d40d8bb",
   "metadata": {},
   "source": [
    "自【作用中活頁簿】，擇用【韻母】工作表"
   ]
  },
  {
   "cell_type": "code",
   "execution_count": null,
   "id": "b2c8c73b",
   "metadata": {},
   "outputs": [],
   "source": [
    "# 匯入 xlwings 套件\n",
    "import xlwings as xw\n",
    "\n",
    "# 取得作用中的活頁簿（當前開啟的 Excel 檔案）\n",
    "wb = xw.books.active\n",
    "\n",
    "# 選擇【韻母】工作表成為作用中工作表\n",
    "ws = wb.sheets['韻母']\n",
    "ws.activate()\n"
   ]
  },
  {
   "cell_type": "markdown",
   "id": "2b7130af",
   "metadata": {},
   "source": [
    "選擇 Home 儲存格"
   ]
  },
  {
   "cell_type": "code",
   "execution_count": null,
   "id": "6b2db76b",
   "metadata": {},
   "outputs": [],
   "source": [
    "cell = ws.range('C5')\n",
    "cell.select()"
   ]
  },
  {
   "cell_type": "markdown",
   "id": "6dc66159",
   "metadata": {},
   "source": [
    "# Jupyter Notebook 程式碼偵錯方法\n",
    "\n",
    "在 Jupyter Notebook 中有多種偵錯方式：\n",
    "\n",
    "## 1. 使用 VS Code 內建偵錯器\n",
    "- 在儲存格左側點擊行號設定中斷點\n",
    "- 按 `F5` 或點擊偵錯圖示開始偵錯\n",
    "- 使用 `F10` (逐步執行)、`F11` (進入函數)、`Shift+F11` (跳出函數)\n",
    "\n",
    "## 2. 使用 Python 偵錯器 (pdb)\n",
    "在程式碼中插入偵錯指令"
   ]
  },
  {
   "cell_type": "code",
   "execution_count": null,
   "id": "d7d63bd4",
   "metadata": {},
   "outputs": [],
   "source": [
    "# 方法1: 使用 pdb 偵錯器\n",
    "import pdb\n",
    "\n",
    "def example_function(x, y):\n",
    "    result = x + y\n",
    "    pdb.set_trace()  # 設定中斷點\n",
    "    final_result = result * 2\n",
    "    return final_result\n",
    "\n",
    "# 執行時會在 pdb.set_trace() 處停止\n",
    "# example_function(5, 3)"
   ]
  },
  {
   "cell_type": "code",
   "execution_count": null,
   "id": "ebfb3993",
   "metadata": {},
   "outputs": [],
   "source": [
    "# 方法2: 使用 %pdb 魔術指令\n",
    "%pdb on  # 開啟自動偵錯模式\n",
    "\n",
    "# 當程式出現錯誤時會自動進入偵錯模式\n",
    "def divide_numbers(a, b):\n",
    "    return a / b\n",
    "\n",
    "# 這會觸發除零錯誤並進入偵錯模式\n",
    "# divide_numbers(10, 0)"
   ]
  },
  {
   "cell_type": "code",
   "execution_count": null,
   "id": "8980ad7c",
   "metadata": {},
   "outputs": [],
   "source": [
    "# 方法3: 使用 breakpoint() (Python 3.7+)\n",
    "def calculate_sum(numbers):\n",
    "    total = 0\n",
    "    for num in numbers:\n",
    "        breakpoint()  # 內建的中斷點函數\n",
    "        total += num\n",
    "    return total\n",
    "\n",
    "# 執行時會在每次迴圈時停止\n",
    "# calculate_sum([1, 2, 3, 4, 5])"
   ]
  },
  {
   "cell_type": "code",
   "execution_count": null,
   "id": "b84c87df",
   "metadata": {},
   "outputs": [],
   "source": [
    "# 方法4: 使用 print() 進行簡單偵錯\n",
    "def process_data(data):\n",
    "    print(f\"輸入資料: {data}\")  # 偵錯訊息\n",
    "\n",
    "    result = []\n",
    "    for i, item in enumerate(data):\n",
    "        print(f\"處理第 {i} 項: {item}\")  # 偵錯訊息\n",
    "        processed_item = item * 2\n",
    "        print(f\"處理後結果: {processed_item}\")  # 偵錯訊息\n",
    "        result.append(processed_item)\n",
    "\n",
    "    print(f\"最終結果: {result}\")  # 偵錯訊息\n",
    "    return result\n",
    "\n",
    "# 測試函數\n",
    "process_data([1, 2, 3])"
   ]
  },
  {
   "cell_type": "markdown",
   "id": "68693dbc",
   "metadata": {},
   "source": [
    "## 偵錯器常用指令\n",
    "\n",
    "當進入 pdb 偵錯模式時，可以使用以下指令：\n",
    "\n",
    "- `l` (list): 顯示當前程式碼\n",
    "- `n` (next): 執行下一行\n",
    "- `s` (step): 進入函數內部\n",
    "- `c` (continue): 繼續執行到下一個中斷點\n",
    "- `p <變數名>`: 印出變數值\n",
    "- `pp <變數名>`: 漂亮地印出變數值\n",
    "- `w` (where): 顯示呼叫堆疊\n",
    "- `u` (up): 往上一層堆疊\n",
    "- `d` (down): 往下一層堆疊\n",
    "- `q` (quit): 離開偵錯器\n",
    "\n",
    "## VS Code 快捷鍵\n",
    "- `F9`: 設定/移除中斷點\n",
    "- `F5`: 開始偵錯\n",
    "- `F10`: 逐步執行 (Step Over)\n",
    "- `F11`: 進入函數 (Step Into)\n",
    "- `Shift+F11`: 跳出函數 (Step Out)\n",
    "- `Ctrl+F5`: 執行不偵錯"
   ]
  }
 ],
 "metadata": {
  "kernelspec": {
   "display_name": ".venv",
   "language": "python",
   "name": "python3"
  },
  "language_info": {
   "name": "python",
   "version": "3.13.1"
  }
 },
 "nbformat": 4,
 "nbformat_minor": 5
}
