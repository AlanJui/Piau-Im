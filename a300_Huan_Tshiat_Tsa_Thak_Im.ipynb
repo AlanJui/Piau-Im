{
 "cells": [
  {
   "cell_type": "markdown",
   "metadata": {},
   "source": [
    "## 反切查拚音功能\n",
    "\n",
    "### 功能描述\n",
    "\n",
    "用途：可以在終端機，使用 Python Code 查詢漢字的反切拚音。 \n",
    "\n",
    "### 反切查漢字讀音\n",
    "\n",
    "1. 利用上字：\n",
    "   (1) 查聲母的台羅拼音字母；\n",
    "   (2) 分清濁音：上字的台羅拼音聲調，若是1-4為清；5-8為濁\n",
    "\n",
    "2. 利用下字：\n",
    "   (1) 查韻母的台羅拼音字母；\n",
    "   (2) 辨平/上/去/入聲：下字的台羅拼音聲調，若是1/5為平；2/6為上；3/7為去；4/8為入\n",
    "\n",
    "3. 利用「清/濁」和「平/上/去/入」，查四聲八調的調號\n",
    "   | 　 | 平 | 上 | 去 | 入 |\n",
    "   |----+----+----+----+----|\n",
    "   | 清 |  1 |  2 |  3 |  4 |\n",
    "   | 濁 |  5 |  6 |  7 |  8 |\n",
    "\n",
    "    1: 清平 \n",
    "    2: 清上\n",
    "    3: 清去\n",
    "    4: 清入\n",
    "    5: 濁平\n",
    "    6: 濁上\n",
    "    7: 濁去\n",
    "    8: 濁入\n",
    "\n",
    "4. 台羅拚音 = 聲母 + 韻母 + 調號\n",
    "\n"
   ]
  },
  {
   "cell_type": "markdown",
   "metadata": {},
   "source": [
    "漢字= \"東\"\n",
    "\n",
    "上字= \"德\" --> 台羅拚音：tik4  --> 聲母 = \"t\"   --> 調號 = 4 --> 清音\n",
    "下字= \"紅\" --> 台羅拚音：hong5 --> 聲母 = \"ong\" --> 調號 = 5 --> 平聲\n",
    "由清音+平聲 --> 調號 = 5\n",
    "\n",
    "台羅拼音 = t + ong + 5 = tong5"
   ]
  },
  {
   "cell_type": "markdown",
   "metadata": {},
   "source": [
    "## 執行流程\n",
    "\n",
    "### 接收使用者輸入\n",
    "\n",
    "指令格式：\n",
    "\n",
    "```bash\n",
    "py a300_反切查拼音.py [參數1：查詢漢字] [參數2：反切拼]\n",
    "```\n",
    "\n",
    "參數：\n",
    "\n",
    "1. 查詢漢字： 1 個中文字\n",
    "2. 反切拼音： 2 個中文字\n",
    "   2.1 反切上字：反切拼音參數的第 1 個中文字\n",
    "   2.2 反切下字：反切拼音參數的第 2 個中文字\n",
    "\n",
    "案例：\n",
    "\n",
    "```bash\n",
    "py a300_反切查拼音.py 東 德紅\n",
    "```"
   ]
  },
  {
   "cell_type": "code",
   "execution_count": 5,
   "metadata": {},
   "outputs": [
    {
     "name": "stdout",
     "output_type": "stream",
     "text": [
      "反切上字：德\n",
      "反切下字：紅\n"
     ]
    }
   ],
   "source": [
    "han_ji = \"東\"\n",
    "huan_tshiat = \"德紅\"\n",
    "\n",
    "siong_ji = huan_tshiat[0]\n",
    "e_ji = huan_tshiat[1]\n",
    "\n",
    "print(f\"欲查漢字：{han_ji}\")\n",
    "print(f\"反切讀音：{huan_tshiat}\")\n",
    "print(f\"反切上字：{siong_ji}\")\n",
    "print(f\"反切下字：{e_ji}\")"
   ]
  },
  {
   "cell_type": "markdown",
   "metadata": {},
   "source": [
    "### 輸出反切拼音 \n",
    "\n",
    "依據輸入的 2 個參數進行處理，完成後輸出如下格式資料：\n",
    "\n",
    "`格式`：\n",
    "\n",
    "```bash\n",
    "欲查詢拼音之漢字：[參數1：查詢漢字]\n",
    "\n",
    "反切拼音為：[參數2：反切拼]\n",
    "\n",
    "反切上字為：[反切上字]\n",
    "反切下字為：[反切下字]\n",
    "```\n",
    "\n",
    "`舉例`：\n",
    "\n",
    "```bash\n",
    "欲查詢拼音之漢字：東\n",
    "反切拼音為：tong1\n",
    "\n",
    "反切上字為：德 (tik4)\n",
    " - 聲母：t\n",
    " - 清濁：清音\n",
    "\n",
    "反切下字為：紅（hong5）\n",
    " - 韻母：ong\n",
    " - 四聲：平聲\n",
    "\n",
    "清音配平聲，得聲調為：1\n",
    "```"
   ]
  }
 ],
 "metadata": {
  "kernelspec": {
   "display_name": "Python 3",
   "language": "python",
   "name": "python3"
  },
  "language_info": {
   "codemirror_mode": {
    "name": "ipython",
    "version": 3
   },
   "file_extension": ".py",
   "mimetype": "text/x-python",
   "name": "python",
   "nbconvert_exporter": "python",
   "pygments_lexer": "ipython3",
   "version": "3.12.2"
  }
 },
 "nbformat": 4,
 "nbformat_minor": 2
}
